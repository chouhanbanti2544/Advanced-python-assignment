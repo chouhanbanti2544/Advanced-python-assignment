{
 "cells": [
  {
   "cell_type": "markdown",
   "id": "06e9010f",
   "metadata": {},
   "source": [
    "# Q1. Describe three applications for exception processing."
   ]
  },
  {
   "cell_type": "markdown",
   "id": "d2fb2341",
   "metadata": {},
   "source": [
    " Applications for exception processing in Python include:\n",
    "\n",
    "Error handling: catching and responding to errors that occur during program execution.\n",
    "Debugging: using exception tracebacks to identify and diagnose problems in code.\n",
    "Flow control: using exceptions to interrupt the normal flow of program execution and jump to a specific section of code."
   ]
  },
  {
   "cell_type": "markdown",
   "id": "7f475037",
   "metadata": {},
   "source": [
    "# Q2. What happens if you don&#39;t do something extra to treat an exception?"
   ]
  },
  {
   "cell_type": "markdown",
   "id": "494c4ef5",
   "metadata": {},
   "source": [
    " If an exception occurs in your code and you don't handle it with exception processing, your program will terminate with an error message."
   ]
  },
  {
   "cell_type": "markdown",
   "id": "3b066228",
   "metadata": {},
   "source": [
    "# Q3. What are your options for recovering from an exception in your script?"
   ]
  },
  {
   "cell_type": "markdown",
   "id": "beadddeb",
   "metadata": {},
   "source": [
    "Your options for recovering from an exception in your script include:\n",
    "\n",
    "Handling the exception with a try-except block and responding appropriately to the error.\n",
    "Raising a different exception to be handled at a higher level of the program.\n",
    "Logging the error and continuing with program execution, if possible."
   ]
  },
  {
   "cell_type": "markdown",
   "id": "b8785c16",
   "metadata": {},
   "source": [
    "# Q4. Describe two methods for triggering exceptions in your script."
   ]
  },
  {
   "cell_type": "markdown",
   "id": "98f1f118",
   "metadata": {},
   "source": [
    "Two methods for triggering exceptions in your script are:\n",
    "\n",
    "Using the raise statement to explicitly raise an exception.\n",
    "Calling a function or method that raises an exception if certain conditions are not met."
   ]
  },
  {
   "cell_type": "markdown",
   "id": "ca43c0c7",
   "metadata": {},
   "source": [
    "# Q5. Identify two methods for specifying actions to be executed at termination time, regardless of whether or not an exception exists."
   ]
  },
  {
   "cell_type": "markdown",
   "id": "d82aa076",
   "metadata": {},
   "source": [
    "Two methods for specifying actions to be executed at termination time include:\n",
    "\n",
    "Using a try-finally block to ensure that cleanup code is executed, regardless of whether or not an exception occurs.\n",
    "Using the atexit module to register functions to be called when the script terminates."
   ]
  }
 ],
 "metadata": {
  "kernelspec": {
   "display_name": "Python 3 (ipykernel)",
   "language": "python",
   "name": "python3"
  },
  "language_info": {
   "codemirror_mode": {
    "name": "ipython",
    "version": 3
   },
   "file_extension": ".py",
   "mimetype": "text/x-python",
   "name": "python",
   "nbconvert_exporter": "python",
   "pygments_lexer": "ipython3",
   "version": "3.10.7"
  }
 },
 "nbformat": 4,
 "nbformat_minor": 5
}
