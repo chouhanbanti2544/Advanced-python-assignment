{
 "cells": [
  {
   "cell_type": "markdown",
   "id": "4ff8ccae",
   "metadata": {},
   "source": [
    "# Q1. What is the purpose of the try statement?"
   ]
  },
  {
   "cell_type": "markdown",
   "id": "5ab13ec2",
   "metadata": {},
   "source": [
    "The purpose of the try statement in Python is to enable error handling by catching and handling exceptions that occur during program execution. With the try statement, a block of code is executed and any exceptions that occur within the block are caught and handled by an accompanying except block."
   ]
  },
  {
   "cell_type": "markdown",
   "id": "414ecca6",
   "metadata": {},
   "source": [
    "# Q2. What are the two most popular try statement variations?"
   ]
  },
  {
   "cell_type": "markdown",
   "id": "adef61a8",
   "metadata": {},
   "source": [
    "The two most popular variations of the try statement are:\n",
    "\n",
    "try/except: This variation allows you to specify an exception handler that will be executed if an exception of a specific type is raised within the try block.\n",
    "try/finally: This variation allows you to specify a block of cleanup code that will always be executed, whether or not an exception is raised within the try block."
   ]
  },
  {
   "cell_type": "markdown",
   "id": "645f57a0",
   "metadata": {},
   "source": [
    "# Q3. What is the purpose of the raise statement?"
   ]
  },
  {
   "cell_type": "markdown",
   "id": "f897b853",
   "metadata": {},
   "source": [
    "The raise statement in Python is used to manually raise an exception. When executed, it causes a specified exception to be raised and handled in the same way as if it had been raised automatically by Python."
   ]
  },
  {
   "cell_type": "markdown",
   "id": "f1955758",
   "metadata": {},
   "source": [
    "# Q4. What does the assert statement do, and what other statement is it like?"
   ]
  },
  {
   "cell_type": "markdown",
   "id": "35b53988",
   "metadata": {},
   "source": [
    "The assert statement is used to assert that a given condition is true, and if it is not, an AssertionError is raised. It is similar to the if statement, but is used for debugging and testing purposes, rather than for program logic."
   ]
  },
  {
   "cell_type": "markdown",
   "id": "3e2eb5cd",
   "metadata": {},
   "source": [
    "# Q5. What is the purpose of the with/as argument, and what other statement is it like?"
   ]
  },
  {
   "cell_type": "markdown",
   "id": "09821a0a",
   "metadata": {},
   "source": [
    "The with/as statement is used to simplify the management of resources that need to be acquired and released in a specific order. It is similar to a try/finally block, but is more concise and easier to read. The with statement is used to wrap the acquisition of a resource, while the as argument is used to assign the resource to a variable for use within the block of code."
   ]
  }
 ],
 "metadata": {
  "kernelspec": {
   "display_name": "Python 3 (ipykernel)",
   "language": "python",
   "name": "python3"
  },
  "language_info": {
   "codemirror_mode": {
    "name": "ipython",
    "version": 3
   },
   "file_extension": ".py",
   "mimetype": "text/x-python",
   "name": "python",
   "nbconvert_exporter": "python",
   "pygments_lexer": "ipython3",
   "version": "3.10.7"
  }
 },
 "nbformat": 4,
 "nbformat_minor": 5
}
