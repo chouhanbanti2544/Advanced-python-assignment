{
 "cells": [
  {
   "cell_type": "markdown",
   "id": "91860b17",
   "metadata": {},
   "source": [
    "# 1. What are the new features added in Python 3.8 version?"
   ]
  },
  {
   "cell_type": "markdown",
   "id": "f2728182",
   "metadata": {},
   "source": [
    "Python 3.8 introduced several new features, including:\n",
    "\n",
    "Assignment expressions (also known as the \"walrus operator\") allow you to assign values to variables within an expression.\n",
    "Positional-only parameters for functions, which allow you to specify which function parameters can only be passed positionally (i.e., not by keyword).\n",
    "f-strings now support = for self-documenting expressions and : for formatting.\n",
    "The math module now includes two new functions: math.prod and math.isqrt.\n",
    "Python now uses the UTF-8 encoding for source code files by default.\n",
    "Several performance improvements were made, including faster dictionary operations and faster calls to built-in functions.\n"
   ]
  },
  {
   "cell_type": "markdown",
   "id": "e1f4ab6a",
   "metadata": {},
   "source": [
    "# 2. What is monkey patching in Python?"
   ]
  },
  {
   "cell_type": "markdown",
   "id": "395fb192",
   "metadata": {},
   "source": [
    "Monkey patching is a technique in Python where you modify a module or object at runtime by changing or adding attributes, methods, or functions. This is often used to fix bugs or add functionality to third-party libraries without modifying their source code."
   ]
  },
  {
   "cell_type": "markdown",
   "id": "16b20ee3",
   "metadata": {},
   "source": [
    "# 3. What is the difference between a shallow copy and deep copy?"
   ]
  },
  {
   "cell_type": "markdown",
   "id": "4ce94b81",
   "metadata": {},
   "source": [
    "A shallow copy creates a new object that points to the same memory locations as the original object. This means that changes made to the new object will also affect the original object. A deep copy creates a new object with a new memory location that is a complete copy of the original object. This means that changes made to the new object will not affect the original object."
   ]
  },
  {
   "cell_type": "markdown",
   "id": "7244a95d",
   "metadata": {},
   "source": [
    "# 4. What is the maximum possible length of an identifier?"
   ]
  },
  {
   "cell_type": "markdown",
   "id": "91020f19",
   "metadata": {},
   "source": [
    "The maximum length of an identifier in Python is implementation-dependent, but is generally around 79 or 80 characters. PEP 8 recommends limiting lines to a maximum of 79 characters, which helps ensure that long identifiers do not negatively impact readability."
   ]
  },
  {
   "cell_type": "markdown",
   "id": "897a9d2e",
   "metadata": {},
   "source": [
    "# 5. What is generator comprehension?"
   ]
  },
  {
   "cell_type": "markdown",
   "id": "276efb02",
   "metadata": {},
   "source": [
    "Generator comprehension is a concise way to create a generator object in Python using a single line of code. It is similar to list comprehension, but instead of creating a list, it creates a generator object that can be iterated over lazily. The syntax for generator comprehension is similar to list comprehension, but with parentheses instead of square brackets. For example, the following code creates a generator object that yields the squares of the numbers in the range 0 to 9:\n",
    "\n",
    "squares = (x**2 for x in range(10))\n"
   ]
  }
 ],
 "metadata": {
  "kernelspec": {
   "display_name": "Python 3 (ipykernel)",
   "language": "python",
   "name": "python3"
  },
  "language_info": {
   "codemirror_mode": {
    "name": "ipython",
    "version": 3
   },
   "file_extension": ".py",
   "mimetype": "text/x-python",
   "name": "python",
   "nbconvert_exporter": "python",
   "pygments_lexer": "ipython3",
   "version": "3.10.7"
  }
 },
 "nbformat": 4,
 "nbformat_minor": 5
}
