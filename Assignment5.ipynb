{
 "cells": [
  {
   "cell_type": "markdown",
   "id": "29dbcead",
   "metadata": {},
   "source": [
    "# Q1. What is the meaning of multiple inheritance?"
   ]
  },
  {
   "cell_type": "markdown",
   "id": "c9d99b72",
   "metadata": {},
   "source": [
    "Multiple inheritance is a feature in object-oriented programming languages that allows a class to inherit from multiple parent classes. This means that a subclass can inherit attributes and behaviors from multiple superclasses, leading to a complex class hierarchy. Multiple inheritance can be useful for combining the functionality of multiple classes, but it can also lead to problems such as name conflicts and the diamond problem."
   ]
  },
  {
   "cell_type": "markdown",
   "id": "90b1c89b",
   "metadata": {},
   "source": [
    "# Q2. What is the concept of delegation?"
   ]
  },
  {
   "cell_type": "markdown",
   "id": "78d8eb1f",
   "metadata": {},
   "source": [
    "Delegation is a design pattern in object-oriented programming that involves one object passing off some of its responsibilities to another object. This is done by defining a method in the delegating object that calls a corresponding method in the delegate object. Delegation is often used to provide encapsulation, as it allows an object to hide some of its implementation details while still providing a public interface."
   ]
  },
  {
   "cell_type": "markdown",
   "id": "1ab17e9d",
   "metadata": {},
   "source": [
    "# Q3. What is the concept of composition?"
   ]
  },
  {
   "cell_type": "markdown",
   "id": "713aeed1",
   "metadata": {},
   "source": [
    "Composition is another design pattern in object-oriented programming that involves creating objects that are composed of other objects. Composition is similar to aggregation, but with composition, the component objects cannot exist without the parent object. This means that the parent object owns the component objects and is responsible for their creation and destruction. Composition can be used to create complex objects that have a hierarchy of components, and it can help to promote encapsulation and modularity."
   ]
  },
  {
   "cell_type": "markdown",
   "id": "6c9247f0",
   "metadata": {},
   "source": [
    "# Q4. What are bound methods and how do we use them?"
   ]
  },
  {
   "cell_type": "markdown",
   "id": "3558c97f",
   "metadata": {},
   "source": [
    "Bound methods are methods that are bound to an instance of a class. When a method is called on an instance, the instance is automatically passed as the first argument to the method. Bound methods are created when a method is accessed as an attribute of an instance, and they can be used to modify the instance's state or behavior. Bound methods are often used to implement object-oriented designs that involve message passing between objects."
   ]
  },
  {
   "cell_type": "markdown",
   "id": "c7fd12a1",
   "metadata": {},
   "source": [
    "# Q5. What is the purpose of pseudoprivate attributes?"
   ]
  },
  {
   "cell_type": "markdown",
   "id": "3ccb4702",
   "metadata": {},
   "source": [
    "Pseudoprivate attributes are attributes in Python classes that are prefixed with two underscores (e.g., __attribute). These attributes are not truly private, as they can still be accessed using the _ClassName__attribute syntax. However, the double underscore prefix causes the attribute name to be mangled, making it more difficult to accidentally override or access the attribute from outside the class. The purpose of pseudoprivate attributes is to provide a level of data hiding and encapsulation in Python classes."
   ]
  }
 ],
 "metadata": {
  "kernelspec": {
   "display_name": "Python 3 (ipykernel)",
   "language": "python",
   "name": "python3"
  },
  "language_info": {
   "codemirror_mode": {
    "name": "ipython",
    "version": 3
   },
   "file_extension": ".py",
   "mimetype": "text/x-python",
   "name": "python",
   "nbconvert_exporter": "python",
   "pygments_lexer": "ipython3",
   "version": "3.10.7"
  }
 },
 "nbformat": 4,
 "nbformat_minor": 5
}
