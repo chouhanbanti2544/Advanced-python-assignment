{
 "cells": [
  {
   "cell_type": "markdown",
   "id": "f4ed62f2",
   "metadata": {},
   "source": [
    "# 1. What is the concept of an abstract superclass?"
   ]
  },
  {
   "cell_type": "markdown",
   "id": "271a9177",
   "metadata": {},
   "source": [
    "An abstract superclass is a class that is designed to be inherited from, but not instantiated directly. It defines a set of methods or attributes that its subclasses must implement or override to provide concrete functionality. Abstract superclasses provide a way to define a common interface for related classes and enforce consistency and structure in a program."
   ]
  },
  {
   "cell_type": "markdown",
   "id": "d36b523b",
   "metadata": {},
   "source": [
    "# 2. What happens when a class statement&#39;s top level contains a basic assignment statement?"
   ]
  },
  {
   "cell_type": "markdown",
   "id": "968e6f4c",
   "metadata": {},
   "source": [
    "When a class statement's top level contains a basic assignment statement, the statement creates a class-level attribute. The attribute is shared by all instances of the class and can be accessed through the class itself or any instance of the class."
   ]
  },
  {
   "cell_type": "markdown",
   "id": "e149646f",
   "metadata": {},
   "source": [
    "# 3. Why does a class need to manually call a superclass&#39;s __init__ method?"
   ]
  },
  {
   "cell_type": "markdown",
   "id": "d57c1545",
   "metadata": {},
   "source": [
    "A class needs to manually call a superclass's init method to properly initialize the inherited attributes and behavior defined in the superclass. If a subclass overrides the init method without calling the superclass's init method, it may fail to properly initialize the inherited attributes or behavior, leading to unexpected or incorrect program behavior."
   ]
  },
  {
   "cell_type": "markdown",
   "id": "2e4184b3",
   "metadata": {},
   "source": [
    "# 4. How can you augment, instead of completely replacing, an inherited method?"
   ]
  },
  {
   "cell_type": "markdown",
   "id": "286bd9b0",
   "metadata": {},
   "source": [
    "To augment an inherited method instead of completely replacing it, a subclass can call the superclass's version of the method using the super() built-in function. The subclass can then modify the result or behavior of the method as needed. This technique is known as method overriding, and it allows a subclass to reuse and extend the functionality of its superclass."
   ]
  },
  {
   "cell_type": "markdown",
   "id": "12b49e39",
   "metadata": {},
   "source": [
    "# 5. How is the local scope of a class different from that of a function?"
   ]
  },
  {
   "cell_type": "markdown",
   "id": "d2d37512",
   "metadata": {},
   "source": [
    "The local scope of a class is different from that of a function in several ways. First, a class defines a namespace that is separate from the global namespace and any other class namespaces. Second, a class can define attributes and methods that can be accessed by its instances or inherited by its subclasses. Third, a class can define a special set of methods, such as init and str, that provide specific behavior for the class or its instances. Finally, a class can define class-level attributes and methods that are shared by all instances of the class and can be accessed through the class itself or any instance of the class."
   ]
  }
 ],
 "metadata": {
  "kernelspec": {
   "display_name": "Python 3 (ipykernel)",
   "language": "python",
   "name": "python3"
  },
  "language_info": {
   "codemirror_mode": {
    "name": "ipython",
    "version": 3
   },
   "file_extension": ".py",
   "mimetype": "text/x-python",
   "name": "python",
   "nbconvert_exporter": "python",
   "pygments_lexer": "ipython3",
   "version": "3.10.7"
  }
 },
 "nbformat": 4,
 "nbformat_minor": 5
}
