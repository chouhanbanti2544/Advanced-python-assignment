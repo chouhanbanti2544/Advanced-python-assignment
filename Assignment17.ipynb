{
 "cells": [
  {
   "cell_type": "markdown",
   "id": "827a45d6",
   "metadata": {},
   "source": [
    "# Q1. Explain the difference between greedy and non-greedy syntax with visual terms in as few words as possible. What is the bare minimum effort required to transform a greedy pattern into a non-greedy one? What characters or characters can you introduce or change?"
   ]
  },
  {
   "cell_type": "markdown",
   "id": "f6762369",
   "metadata": {},
   "source": [
    "Greedy and non-greedy syntax are used in regular expressions to control how much text a pattern matches. Greedy patterns match as much text as possible, while non-greedy patterns match as little as possible. The bare minimum effort required to transform a greedy pattern into a non-greedy one is to append a question mark '?' to the end of the pattern. This makes the pattern non-greedy. For example, the greedy pattern '.' matches all characters in a string, while the non-greedy pattern '.?' matches as few characters as possible."
   ]
  },
  {
   "cell_type": "markdown",
   "id": "fa665c57",
   "metadata": {},
   "source": [
    "# Q2. When exactly does greedy versus non-greedy make a difference?  What if you&#39;re looking for a non-greedy match but the only one available is greedy?"
   ]
  },
  {
   "cell_type": "markdown",
   "id": "ec949f18",
   "metadata": {},
   "source": [
    "Greedy versus non-greedy makes a difference when there is more than one possible match for a pattern in a string. If you're looking for a non-greedy match but the only one available is greedy, you can use the question mark '?' to make the pattern non-greedy.\n"
   ]
  },
  {
   "cell_type": "markdown",
   "id": "139a5c9e",
   "metadata": {},
   "source": [
    "# Q3. In a simple match of a string, which looks only for one match and does not do any replacement, is the use of a nontagged group likely to make any practical difference?"
   ]
  },
  {
   "cell_type": "markdown",
   "id": "d921f963",
   "metadata": {},
   "source": [
    "In a simple match of a string, using a non-tagged group is unlikely to make any practical difference."
   ]
  },
  {
   "cell_type": "markdown",
   "id": "b50be619",
   "metadata": {},
   "source": [
    "# Q4. Describe a scenario in which using a nontagged category would have a significant impact on the program&#39;s outcomes."
   ]
  },
  {
   "cell_type": "markdown",
   "id": "87c4e3e1",
   "metadata": {},
   "source": [
    " A scenario where using a non-tagged category would have a significant impact on the program's outcomes is when you want to match a specific pattern in a string but exclude it from the final match."
   ]
  },
  {
   "cell_type": "markdown",
   "id": "f29db5be",
   "metadata": {},
   "source": [
    "# Q5. Unlike a normal regex pattern, a look-ahead condition does not consume the characters it examines. Describe a situation in which this could make a difference in the results of your programme."
   ]
  },
  {
   "cell_type": "markdown",
   "id": "99e66b73",
   "metadata": {},
   "source": [
    "When using a look-ahead condition in regular expressions, the characters examined are not consumed. This can make a difference in the results of a program when you need to look for a specific pattern without including it in the final match."
   ]
  },
  {
   "cell_type": "markdown",
   "id": "67206053",
   "metadata": {},
   "source": [
    "# Q6. In standard expressions, what is the difference between positive look-ahead and negative look-ahead?\n"
   ]
  },
  {
   "cell_type": "markdown",
   "id": "4941e29b",
   "metadata": {},
   "source": [
    "Positive look-ahead and negative look-ahead are two types of look-ahead conditions in regular expressions. Positive look-ahead asserts that a pattern must follow the current pattern, while negative look-ahead asserts that a pattern must not follow the current pattern."
   ]
  },
  {
   "cell_type": "markdown",
   "id": "8b33fab0",
   "metadata": {},
   "source": [
    "# Q7. What is the benefit of referring to groups by name rather than by number in a standard expression?"
   ]
  },
  {
   "cell_type": "markdown",
   "id": "7c0d5de2",
   "metadata": {},
   "source": [
    "Referring to groups by name rather than by number in a standard expression provides better readability and maintainability of the code. It makes the code more self-explanatory and less prone to errors."
   ]
  },
  {
   "cell_type": "markdown",
   "id": "5cb26626",
   "metadata": {},
   "source": [
    "# Q8. Can you identify repeated items within a target string using named groups, as in &quot;The cow jumped over the moon&quot;?"
   ]
  },
  {
   "cell_type": "markdown",
   "id": "bd278d58",
   "metadata": {},
   "source": [
    "Yes, you can use named groups to identify repeated items within a target string. For example, the regular expression r'(?P<word>\\w+) (?P=word)' matches any word that appears twice in a row in a string."
   ]
  },
  {
   "cell_type": "markdown",
   "id": "05cadda5",
   "metadata": {},
   "source": [
    "# Q9. When parsing a string, what is at least one thing that the Scanner interface does for you that the re.findall feature does not?"
   ]
  },
  {
   "cell_type": "markdown",
   "id": "5393d37a",
   "metadata": {},
   "source": [
    "When parsing a string, the Scanner interface tokenizes the string into a stream of tokens, where each token is a well-defined piece of the input string. It provides a way to iterate over the tokens of the input string and extract the required information from it, which is not possible with re.findall."
   ]
  },
  {
   "cell_type": "markdown",
   "id": "4bed145a",
   "metadata": {},
   "source": [
    "# Q10. Does a scanner object have to be named scanner?"
   ]
  },
  {
   "cell_type": "markdown",
   "id": "76e1488c",
   "metadata": {},
   "source": [
    "No, a scanner object does not have to be named scanner. It can be named anything that is valid in Python."
   ]
  }
 ],
 "metadata": {
  "kernelspec": {
   "display_name": "Python 3 (ipykernel)",
   "language": "python",
   "name": "python3"
  },
  "language_info": {
   "codemirror_mode": {
    "name": "ipython",
    "version": 3
   },
   "file_extension": ".py",
   "mimetype": "text/x-python",
   "name": "python",
   "nbconvert_exporter": "python",
   "pygments_lexer": "ipython3",
   "version": "3.10.7"
  }
 },
 "nbformat": 4,
 "nbformat_minor": 5
}
