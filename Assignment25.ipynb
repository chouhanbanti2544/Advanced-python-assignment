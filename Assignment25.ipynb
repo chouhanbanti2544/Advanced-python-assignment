{
 "cells": [
  {
   "cell_type": "markdown",
   "id": "7bc474d5",
   "metadata": {},
   "source": [
    "# Q1. What is the distinction between a numpy array and a pandas data frame? Is there a way to convert between the two if there is?"
   ]
  },
  {
   "cell_type": "markdown",
   "id": "aa650961",
   "metadata": {},
   "source": [
    "Numpy arrays and Pandas data frames are both commonly used data structures in Python for handling numerical data. The main difference between the two is that a numpy array is a homogeneous array of fixed size, whereas a pandas data frame is a 2-dimensional tabular data structure with labeled axes (rows and columns) and can contain heterogeneous data types. While numpy arrays are more efficient for numerical calculations, pandas data frames provide more flexibility for handling and manipulating data.\n",
    "\n",
    "To convert a numpy array to a pandas data frame, you can use the pd.DataFrame() function, passing the numpy array as an argument. To convert a pandas data frame to a numpy array, you can use the .values attribute of the data frame."
   ]
  },
  {
   "cell_type": "markdown",
   "id": "849a2e39",
   "metadata": {},
   "source": [
    "# Q2. What can go wrong when an user enters in a stock-ticker symbol, and how do you handle it?"
   ]
  },
  {
   "cell_type": "markdown",
   "id": "4eff7202",
   "metadata": {},
   "source": [
    "When a user enters a stock-ticker symbol, there are several things that can go wrong. One common issue is that the symbol may not exist or may be misspelled, resulting in an error or incorrect data being displayed. Another issue is that the stock may have multiple listings on different exchanges, which can cause confusion if the wrong listing is chosen. Additionally, stock prices can be volatile and change rapidly, so the data retrieved may be outdated by the time it is displayed to the user.\n",
    "\n",
    "To handle these issues, it is important to validate the user input and provide clear feedback if an error occurs. One approach is to use a stock API that provides real-time data and error handling functionality. Another approach is to implement input validation checks and error messages in the user interface"
   ]
  },
  {
   "cell_type": "markdown",
   "id": "8e264617",
   "metadata": {},
   "source": [
    "# Q3. Identify some of the plotting techniques that are used to produce a stock-market chart."
   ]
  },
  {
   "cell_type": "markdown",
   "id": "04216bd9",
   "metadata": {},
   "source": [
    "Some of the plotting techniques commonly used to produce a stock market chart include line charts, candlestick charts, and bar charts. Line charts show the trend of a stock's price over time, while candlestick charts show the opening and closing prices, as well as the high and low prices for each day. Bar charts can be used to show trading volume or other financial metrics."
   ]
  },
  {
   "cell_type": "markdown",
   "id": "53bb3f23",
   "metadata": {},
   "source": [
    "# Q4. Why is it essential to print a legend on a stock market chart?"
   ]
  },
  {
   "cell_type": "markdown",
   "id": "d9ad1952",
   "metadata": {},
   "source": [
    " A legend is essential on a stock market chart because it provides information about the data being displayed. This includes labels for the different lines or bars on the chart, as well as any relevant information about the data, such as the date range or currency used. Without a legend, the chart can be confusing and difficult to interpret."
   ]
  },
  {
   "cell_type": "markdown",
   "id": "28536dd6",
   "metadata": {},
   "source": [
    "# Q5. What is the best way to limit the length of a pandas data frame to less than a year?"
   ]
  },
  {
   "cell_type": "markdown",
   "id": "a8496845",
   "metadata": {},
   "source": [
    "To limit the length of a pandas data frame to less than a year, you can use boolean indexing to select only the rows that fall within the desired time frame. For example, if the data frame has a datetime index, you could use the following code to select only the rows from the last year:\n",
    "\n",
    "df = df[df.index > (df.index.max() - pd.DateOffset(years=1))]\n"
   ]
  },
  {
   "cell_type": "markdown",
   "id": "e426adb9",
   "metadata": {},
   "source": [
    "# Q6. What is the definition of a 180-day moving average?"
   ]
  },
  {
   "cell_type": "markdown",
   "id": "c74b6358",
   "metadata": {},
   "source": [
    "A 180-day moving average is a technical analysis indicator that calculates the average price of a stock over the past 180 trading days. This is useful for smoothing out short-term price fluctuations and identifying longer-term trends. To calculate the 180-day moving average, you would take the sum of the closing prices for the past 180 days and divide by 180."
   ]
  },
  {
   "cell_type": "markdown",
   "id": "7d102f82",
   "metadata": {},
   "source": [
    "# Q7. Did the chapter&#39;s final example use &quot;indirect&quot; importing? If so, how exactly do you do it?"
   ]
  },
  {
   "cell_type": "markdown",
   "id": "e456d176",
   "metadata": {},
   "source": [
    "The term \"indirect importing\" typically refers to importing modules or packages using an intermediate module. The chapter's final example did not use indirect importing, as all of the necessary modules were imported directly in the code. However, indirect importing can be useful in certain situations where you want to abstract away the details of the underlying implementation or provide a more user-friendly interface. To perform indirect importing, you would typically create a separate module that imports the necessary modules and exposes a simplified API for use in other modules."
   ]
  }
 ],
 "metadata": {
  "kernelspec": {
   "display_name": "Python 3 (ipykernel)",
   "language": "python",
   "name": "python3"
  },
  "language_info": {
   "codemirror_mode": {
    "name": "ipython",
    "version": 3
   },
   "file_extension": ".py",
   "mimetype": "text/x-python",
   "name": "python",
   "nbconvert_exporter": "python",
   "pygments_lexer": "ipython3",
   "version": "3.10.7"
  }
 },
 "nbformat": 4,
 "nbformat_minor": 5
}
