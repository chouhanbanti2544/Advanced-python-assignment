{
 "cells": [
  {
   "cell_type": "markdown",
   "id": "8aed1198",
   "metadata": {},
   "source": [
    "# Q1. What is the difference between __getattr__ and __getattribute__?"
   ]
  },
  {
   "cell_type": "markdown",
   "id": "2f199ac7",
   "metadata": {},
   "source": [
    "The main difference between __getattr__ and __getattribute__ is that __getattr__ is only called when an attribute cannot be found via normal lookup in the instance, whereas __getattribute__ is called for every attribute access on the instance. In other words, __getattr__ is called only as a fallback when an attribute is not found, while __getattribute__ is called every time an attribute is accessed."
   ]
  },
  {
   "cell_type": "markdown",
   "id": "1468f653",
   "metadata": {},
   "source": [
    "# Q2. What is the difference between properties and descriptors?"
   ]
  },
  {
   "cell_type": "markdown",
   "id": "cf314e2a",
   "metadata": {},
   "source": [
    "Properties and descriptors are both ways to customize attribute access in Python. Properties provide a way to define getter, setter, and deleter methods for a single attribute, which can be accessed using the dot notation. Descriptors, on the other hand, are classes that define one or more of the __get__, __set__, or __delete__ methods, and can be used to customize attribute access for any number of attributes."
   ]
  },
  {
   "cell_type": "markdown",
   "id": "5c43ef1b",
   "metadata": {},
   "source": [
    "# Q3. What are the key differences in functionality between __getattr__ and __getattribute__, as well as properties and descriptors?"
   ]
  },
  {
   "cell_type": "markdown",
   "id": "def7f3ca",
   "metadata": {},
   "source": [
    "The main difference in functionality between __getattr__ and __getattribute__ is that __getattr__ is only called as a fallback when an attribute is not found, while __getattribute__ is called for every attribute access. Properties provide a way to define getter, setter, and deleter methods for a single attribute, while descriptors provide a more flexible way to customize attribute access for any number of attributes. In terms of their relationship, properties can be implemented using descriptors, and both can be used in conjunction with __getattr__ and __getattribute__ to customize attribute access in various ways."
   ]
  }
 ],
 "metadata": {
  "kernelspec": {
   "display_name": "Python 3 (ipykernel)",
   "language": "python",
   "name": "python3"
  },
  "language_info": {
   "codemirror_mode": {
    "name": "ipython",
    "version": 3
   },
   "file_extension": ".py",
   "mimetype": "text/x-python",
   "name": "python",
   "nbconvert_exporter": "python",
   "pygments_lexer": "ipython3",
   "version": "3.10.7"
  }
 },
 "nbformat": 4,
 "nbformat_minor": 5
}
