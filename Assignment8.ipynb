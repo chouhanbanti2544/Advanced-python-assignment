{
 "cells": [
  {
   "cell_type": "markdown",
   "id": "fe4d380b",
   "metadata": {},
   "source": [
    "# Q1. What are the two latest user-defined exception constraints in Python 3.X?"
   ]
  },
  {
   "cell_type": "markdown",
   "id": "94ff1880",
   "metadata": {},
   "source": [
    "The two latest user-defined exception constraints in Python 3.X are __cause__ and __context__."
   ]
  },
  {
   "cell_type": "markdown",
   "id": "808a0411",
   "metadata": {},
   "source": [
    "# Q2. How are class-based exceptions that have been raised matched to handlers?"
   ]
  },
  {
   "cell_type": "markdown",
   "id": "64e712c3",
   "metadata": {},
   "source": [
    "When a class-based exception is raised, Python searches for the nearest handler that can handle that exception. It does this by checking the exception's class hierarchy in reverse order. The first handler that matches the exception's class or any of its base classes is selected to handle the exception"
   ]
  },
  {
   "cell_type": "markdown",
   "id": "7aa21fae",
   "metadata": {},
   "source": [
    "# Q3. Describe two methods for attaching context information to exception artefacts.\n",
    "Using the with_traceback() method to associate an exception with a traceback.\n",
    "Using the __context__ attribute to link an exception to another exception that caused it."
   ]
  },
  {
   "cell_type": "markdown",
   "id": "9a938e8b",
   "metadata": {},
   "source": [
    "Two methods for attaching context information to exception artefacts are:\n",
    "\n",
    "Using the with_traceback() method to associate an exception with a traceback.\n",
    "Using the __context__ attribute to link an exception to another exception that caused it."
   ]
  },
  {
   "cell_type": "markdown",
   "id": "e60ae5b3",
   "metadata": {},
   "source": [
    "# Q4. Two methods for specifying the text of an exception object's error message are:\n",
    "Passing a string argument to the exception class when raising the exception.\n",
    "Defining a custom __str__() method in the exception class to return a formatted error message."
   ]
  },
  {
   "cell_type": "markdown",
   "id": "163bcdac",
   "metadata": {},
   "source": [
    "Two methods for specifying the text of an exception object's error message are:\n",
    "\n",
    "Passing a string argument to the exception class when raising the exception.\n",
    "Defining a custom __str__() method in the exception class to return a formatted error message."
   ]
  },
  {
   "cell_type": "markdown",
   "id": "a2b7e1ec",
   "metadata": {},
   "source": [
    "# Q5. String-based exceptions are no longer used because they are prone to errors and difficult to maintain. In addition, they cannot carry additional context information or be caught by type, making them less flexible than class-based exceptions. Class-based exceptions are preferred in Python because they provide a clean and extensible way to handle errors, and they can be caught by type or by hierarchy."
   ]
  },
  {
   "cell_type": "markdown",
   "id": "734815ac",
   "metadata": {},
   "source": [
    "String-based exceptions are no longer used because they are prone to errors and difficult to maintain. In addition, they cannot carry additional context information or be caught by type, making them less flexible than class-based exceptions. Class-based exceptions are preferred in Python because they provide a clean and extensible way to handle errors, and they can be caught by type or by hierarchy."
   ]
  }
 ],
 "metadata": {
  "kernelspec": {
   "display_name": "Python 3 (ipykernel)",
   "language": "python",
   "name": "python3"
  },
  "language_info": {
   "codemirror_mode": {
    "name": "ipython",
    "version": 3
   },
   "file_extension": ".py",
   "mimetype": "text/x-python",
   "name": "python",
   "nbconvert_exporter": "python",
   "pygments_lexer": "ipython3",
   "version": "3.10.7"
  }
 },
 "nbformat": 4,
 "nbformat_minor": 5
}
