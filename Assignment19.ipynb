{
 "cells": [
  {
   "cell_type": "markdown",
   "id": "bbccb4c4",
   "metadata": {},
   "source": [
    "# Q1. Define the relationship between a class and its instances. Is it a one-to-one or a one-to-many partnership, for example?"
   ]
  },
  {
   "cell_type": "markdown",
   "id": "d0617ef4",
   "metadata": {},
   "source": [
    "A class is a blueprint or template that defines the attributes and methods common to a set of objects. Instances, on the other hand, are specific objects created from the class blueprint. It is a one-to-many partnership because a single class can be used to create multiple instances"
   ]
  },
  {
   "cell_type": "markdown",
   "id": "c27fcbf3",
   "metadata": {},
   "source": [
    "# Q2. What kind of data is held only in an instance?"
   ]
  },
  {
   "cell_type": "markdown",
   "id": "471bf76b",
   "metadata": {},
   "source": [
    "Instance variables hold data that is unique to each instance. They are defined in the init() method and are accessible through the instance."
   ]
  },
  {
   "cell_type": "markdown",
   "id": "1731309c",
   "metadata": {},
   "source": [
    "# Q3. What kind of knowledge is stored in a class?"
   ]
  },
  {
   "cell_type": "markdown",
   "id": "0213e266",
   "metadata": {},
   "source": [
    "A class stores knowledge that is common to all its instances. It includes attributes (class variables) and methods that define the behavior of its instances."
   ]
  },
  {
   "cell_type": "markdown",
   "id": "8cadcf74",
   "metadata": {},
   "source": [
    "# Q4. What exactly is a method, and how is it different from a regular function?"
   ]
  },
  {
   "cell_type": "markdown",
   "id": "e742cfff",
   "metadata": {},
   "source": [
    "A method is a function that is defined within a class and operates on its instances. The primary difference between a method and a regular function is that the former is bound to an instance of the class, whereas the latter is not."
   ]
  },
  {
   "cell_type": "markdown",
   "id": "d686705c",
   "metadata": {},
   "source": [
    "# Q5. Is inheritance supported in Python, and if so, what is the syntax?"
   ]
  },
  {
   "cell_type": "markdown",
   "id": "8ff86331",
   "metadata": {},
   "source": [
    "Yes, inheritance is supported in Python. The syntax for inheriting from a superclass is:\n",
    "\n",
    "class Subclass(Superclass):\n",
    "    # subclass definition\n"
   ]
  },
  {
   "cell_type": "markdown",
   "id": "5fc10759",
   "metadata": {},
   "source": [
    "# Q6. How much encapsulation (making instance or class variables private) does Python support?"
   ]
  },
  {
   "cell_type": "markdown",
   "id": "c6d43b4f",
   "metadata": {},
   "source": [
    "ython supports encapsulation, but to a limited extent. It uses naming conventions to distinguish between private and public variables. A variable that starts with an underscore (_) is considered private and should not be accessed from outside the class."
   ]
  },
  {
   "cell_type": "markdown",
   "id": "a5b09bff",
   "metadata": {},
   "source": [
    "# Q7. How do you distinguish between a class variable and an instance variable?"
   ]
  },
  {
   "cell_type": "markdown",
   "id": "ab80a30b",
   "metadata": {},
   "source": [
    "A class variable is shared among all instances of a class and is defined within the class but outside any method. An instance variable, on the other hand, is specific to each instance and is defined within the init() method."
   ]
  },
  {
   "cell_type": "markdown",
   "id": "4ac0b384",
   "metadata": {},
   "source": [
    "# Q8. When, if ever, can self be included in a class&#39;s method definitions?"
   ]
  },
  {
   "cell_type": "markdown",
   "id": "664412ef",
   "metadata": {},
   "source": [
    "The self parameter is included in every method definition of a class. It refers to the instance of the class and is used to access instance variables and methods."
   ]
  },
  {
   "cell_type": "markdown",
   "id": "12ba2bdb",
   "metadata": {},
   "source": [
    "# Q9. What is the difference between the _ _add_ _ and the _ _radd_ _ methods?"
   ]
  },
  {
   "cell_type": "markdown",
   "id": "4cc62cb5",
   "metadata": {},
   "source": [
    "The add() method is called when the + operator is used with an object. The radd() method is called when the object is on the right-hand side of the + operator."
   ]
  },
  {
   "cell_type": "markdown",
   "id": "8bd8ffd8",
   "metadata": {},
   "source": [
    "# Q10. When is it necessary to use a reflection method? When do you not need it, even though you support the operation in question?\n"
   ]
  },
  {
   "cell_type": "markdown",
   "id": "dfda76ae",
   "metadata": {},
   "source": [
    "Reflection is used to access an object's attributes and methods dynamically at runtime. It is necessary when the attribute or method name is not known until runtime. It is not needed when the name is known at compile time."
   ]
  },
  {
   "cell_type": "markdown",
   "id": "020ee0cd",
   "metadata": {},
   "source": [
    "# Q11. What is the _ _iadd_ _ method called?"
   ]
  },
  {
   "cell_type": "markdown",
   "id": "616a7802",
   "metadata": {},
   "source": [
    "The iadd() method is called when the += operator is used with an object."
   ]
  },
  {
   "cell_type": "markdown",
   "id": "9087499f",
   "metadata": {},
   "source": [
    "# Q12. Is the _ _init_ _ method inherited by subclasses? What do you do if you need to customize its behavior within a subclass?"
   ]
  },
  {
   "cell_type": "markdown",
   "id": "8091b28a",
   "metadata": {},
   "source": [
    "The init() method is inherited by subclasses. To customize its behavior within a subclass, you can define a new init() method in the subclass and call the superclass's init() method using the super() function."
   ]
  }
 ],
 "metadata": {
  "kernelspec": {
   "display_name": "Python 3 (ipykernel)",
   "language": "python",
   "name": "python3"
  },
  "language_info": {
   "codemirror_mode": {
    "name": "ipython",
    "version": 3
   },
   "file_extension": ".py",
   "mimetype": "text/x-python",
   "name": "python",
   "nbconvert_exporter": "python",
   "pygments_lexer": "ipython3",
   "version": "3.10.7"
  }
 },
 "nbformat": 4,
 "nbformat_minor": 5
}
