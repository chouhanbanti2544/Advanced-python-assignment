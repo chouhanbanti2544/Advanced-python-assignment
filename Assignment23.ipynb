{
 "cells": [
  {
   "cell_type": "markdown",
   "id": "589d28a7",
   "metadata": {},
   "source": [
    "# Q1. If you have any, what are your choices for increasing the comparison between different figures on the same graph?"
   ]
  },
  {
   "cell_type": "markdown",
   "id": "fcd1215b",
   "metadata": {},
   "source": [
    "To increase the comparison between different figures on the same graph, one can use different techniques such as adjusting the scale of the axes, using a secondary y-axis, using color coding, or labeling the data points directly on the graph."
   ]
  },
  {
   "cell_type": "markdown",
   "id": "e6933910",
   "metadata": {},
   "source": [
    "# Q2. Can you explain the benefit of compound interest over a higher rate of interest that does not compound after reading this chapter?"
   ]
  },
  {
   "cell_type": "markdown",
   "id": "019ea883",
   "metadata": {},
   "source": [
    "Compound interest is a type of interest where the interest earned is added to the principal amount, and the interest is calculated on the new principal amount. The benefit of compound interest over a higher rate of interest that does not compound is that compound interest results in higher returns over time. This is because the interest earned on the principal amount is reinvested, leading to exponential growth in the investment."
   ]
  },
  {
   "cell_type": "markdown",
   "id": "96a26987",
   "metadata": {},
   "source": [
    "# Q3. What is a histogram, exactly? Name a numpy method for creating such a graph."
   ]
  },
  {
   "cell_type": "markdown",
   "id": "ff1f47d4",
   "metadata": {},
   "source": [
    "A histogram is a graph that represents the distribution of data by dividing it into intervals, or bins, and counting the number of values that fall into each bin. A numpy method for creating a histogram is numpy.histogram()."
   ]
  },
  {
   "cell_type": "markdown",
   "id": "565d0b16",
   "metadata": {},
   "source": [
    "# Q4. If necessary, how do you change the aspect ratios between the X and Y axes?"
   ]
  },
  {
   "cell_type": "markdown",
   "id": "ff5b7360",
   "metadata": {},
   "source": [
    "To change the aspect ratios between the X and Y axes, one can use the matplotlib.pyplot.axis() function. The aspect ratio can be set by passing a tuple of values as an argument to the function, where the first value represents the aspect ratio of the X-axis, and the second value represents the aspect ratio of the Y-axis."
   ]
  },
  {
   "cell_type": "markdown",
   "id": "fe325e10",
   "metadata": {},
   "source": [
    "# Q5. Compare and contrast the three types of array multiplication between two numpy arrays: dotproduct, outer product, and regular multiplication of two numpy arrays."
   ]
  },
  {
   "cell_type": "markdown",
   "id": "1d3aff0c",
   "metadata": {},
   "source": [
    "The three types of array multiplication between two numpy arrays are:\n",
    "\n",
    "Dot product: It performs matrix multiplication between two arrays, which returns a scalar value or an array with lower dimensions.\n",
    "Outer product: It computes the outer product of two arrays, which returns a new array with the shape equal to the product of the shapes of the input arrays.\n",
    "Regular multiplication: It performs element-wise multiplication between two arrays of the same shape, which returns a new array of the same shape."
   ]
  },
  {
   "cell_type": "markdown",
   "id": "f39729a6",
   "metadata": {},
   "source": [
    "# Q6. Before you buy a home, which numpy function will you use to measure your monthly mortgage payment?"
   ]
  },
  {
   "cell_type": "markdown",
   "id": "e2dfa366",
   "metadata": {},
   "source": [
    "To measure the monthly mortgage payment before buying a home, one can use the numpy function numpy.pmt(). It calculates the payment on a loan based on the principal, interest rate, and the number of payments."
   ]
  },
  {
   "cell_type": "markdown",
   "id": "bbbc110e",
   "metadata": {},
   "source": [
    "# Q7. Can string data be stored in numpy arrays? If so, list at least one restriction that applies to this data."
   ]
  },
  {
   "cell_type": "markdown",
   "id": "d8087d11",
   "metadata": {},
   "source": [
    "String data can be stored in numpy arrays, but there are restrictions that apply to this data. The main restriction is that all elements in the array must be of the same length. This is because numpy arrays are designed to store homogeneous data, and they allocate a fixed amount of memory for each element based on the data type and shape of the array. If a string element is shorter than the allocated memory, it will be padded with null characters to match the length of the longest string in the array."
   ]
  }
 ],
 "metadata": {
  "kernelspec": {
   "display_name": "Python 3 (ipykernel)",
   "language": "python",
   "name": "python3"
  },
  "language_info": {
   "codemirror_mode": {
    "name": "ipython",
    "version": 3
   },
   "file_extension": ".py",
   "mimetype": "text/x-python",
   "name": "python",
   "nbconvert_exporter": "python",
   "pygments_lexer": "ipython3",
   "version": "3.10.7"
  }
 },
 "nbformat": 4,
 "nbformat_minor": 5
}
