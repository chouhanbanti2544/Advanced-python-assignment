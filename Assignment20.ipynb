{
 "cells": [
  {
   "cell_type": "markdown",
   "id": "05b2a918",
   "metadata": {},
   "source": [
    "# 1. Compare and contrast the float and Decimal classes&#39; benefits and drawbacks."
   ]
  },
  {
   "cell_type": "markdown",
   "id": "34b83642",
   "metadata": {},
   "source": [
    " \n",
    "\n",
    "The float class is a built-in data type in Python that is used to represent floating-point numbers. It has a wider range and is more memory-efficient compared to the Decimal class. However, the float class has limited precision and can sometimes result in rounding errors.\n",
    "\n",
    "The Decimal class, on the other hand, is used for high-precision decimal arithmetic. It provides a higher level of accuracy compared to the float class, making it ideal for financial and monetary applications. The Decimal class is slower and consumes more memory than the float class, which can be a disadvantage when dealing with large datasets."
   ]
  },
  {
   "cell_type": "markdown",
   "id": "d999f692",
   "metadata": {},
   "source": [
    "# 2. Decimal(&#39;1.200&#39;) and Decimal(&#39;1.2&#39;) are two objects to consider. In what sense are these the same object? Are these just two ways of representing the exact same value, or do they correspond to different internal states?"
   ]
  },
  {
   "cell_type": "markdown",
   "id": "77e370f2",
   "metadata": {},
   "source": [
    "\n",
    "\n",
    "These are not the same objects, but they represent the same value. Decimal('1.200') and Decimal('1.2') correspond to different internal states, but they are considered equal in value. The Decimal class performs a comparison that considers the number of significant digits and trailing zeros."
   ]
  },
  {
   "cell_type": "markdown",
   "id": "504c8adf",
   "metadata": {},
   "source": [
    "# 3. What happens if the equality of Decimal(&#39;1.200&#39;) and Decimal(&#39;1.2&#39;) is checked?"
   ]
  },
  {
   "cell_type": "markdown",
   "id": "ed903e88",
   "metadata": {},
   "source": [
    "\n",
    "\n",
    "If the equality of Decimal('1.200') and Decimal('1.2') is checked, the result would be True. Although they have different internal states, they represent the same value, and the Decimal class considers them equal in value."
   ]
  },
  {
   "cell_type": "markdown",
   "id": "0023dae1",
   "metadata": {},
   "source": [
    "# 4. Why is it preferable to start a Decimal object with a string rather than a floating-point value?"
   ]
  },
  {
   "cell_type": "markdown",
   "id": "b2fef301",
   "metadata": {},
   "source": [
    "It is preferable to start a Decimal object with a string rather than a floating-point value because floating-point values can result in rounding errors. When a floating-point value is converted to a decimal value, the decimal value may not be exact due to the way floating-point numbers are represented in a computer's memory. Starting with a string ensures that the decimal value is exact and eliminates rounding errors."
   ]
  },
  {
   "cell_type": "markdown",
   "id": "d924187e",
   "metadata": {},
   "source": [
    "# 5. In an arithmetic phrase, how simple is it to combine Decimal objects with integers?"
   ]
  },
  {
   "cell_type": "markdown",
   "id": "fcf066ff",
   "metadata": {},
   "source": [
    "It is simple to combine Decimal objects with integers in an arithmetic phrase. Decimal objects and integers can be added, subtracted, multiplied, and divided using the standard arithmetic operators. The result is always a Decimal object."
   ]
  },
  {
   "cell_type": "markdown",
   "id": "8c6f6dc6",
   "metadata": {},
   "source": [
    "# 6. Can Decimal objects and floating-point values be combined easily?"
   ]
  },
  {
   "cell_type": "markdown",
   "id": "8c8f1e3c",
   "metadata": {},
   "source": [
    "Decimal objects and floating-point values can be combined, but it is not recommended. When a Decimal object and a floating-point value are combined, the result is a floating-point value, which can result in rounding errors. It is recommended to use Decimal objects consistently throughout the calculations to avoid rounding errors."
   ]
  },
  {
   "cell_type": "markdown",
   "id": "f826d45f",
   "metadata": {},
   "source": [
    "# 7. Using the Fraction class but not the Decimal class, give an example of a quantity that can be expressed with absolute precision."
   ]
  },
  {
   "cell_type": "markdown",
   "id": "1480e9ef",
   "metadata": {},
   "source": [
    "The Fraction class can be used to express rational numbers with absolute precision. For example, the fraction 1/3 can be expressed as Fraction(1, 3) and will be represented with absolute precision."
   ]
  },
  {
   "cell_type": "markdown",
   "id": "90a53de5",
   "metadata": {},
   "source": [
    "# 8. Describe a quantity that can be accurately expressed by the Decimal or Fraction classes but not by a floating-point value."
   ]
  },
  {
   "cell_type": "markdown",
   "id": "435d3d7f",
   "metadata": {},
   "source": [
    "A quantity that can be accurately expressed by the Decimal or Fraction classes but not by a floating-point value is a repeating decimal, such as 1/3. Floating-point values cannot represent repeating decimals with absolute precision, while the Decimal and Fraction classes can"
   ]
  },
  {
   "cell_type": "markdown",
   "id": "4a2e5afe",
   "metadata": {},
   "source": [
    "# Q9.Consider the following two fraction objects: Fraction(1, 2) and Fraction(1, 2). (5, 10). Is the internal state of these two objects the same? Why do you think that is?"
   ]
  },
  {
   "cell_type": "markdown",
   "id": "a1afb00f",
   "metadata": {},
   "source": [
    "The internal state of these two Fraction objects is not the same, even though they represent the same rational number 1/2. The first Fraction object is created directly from the numerator and denominator values 1 and 2, while the second Fraction object is created from the tuple (5, 10), which is automatically reduced to the tuple (1, 2) by the Fraction constructor. However, once the objects are created, they will behave identically in mathematical operations since they have the same numerator and denominator values."
   ]
  },
  {
   "cell_type": "markdown",
   "id": "75032f43",
   "metadata": {},
   "source": [
    "# Q10. How do the Fraction class and the integer type (int) relate to each other? Containment or inheritance?"
   ]
  },
  {
   "cell_type": "markdown",
   "id": "a60925d1",
   "metadata": {},
   "source": [
    "The Fraction class and the integer type (int) are related through containment. The numerator and denominator of a Fraction object are both integer values, and the Fraction class provides a way to represent fractions as a combination of two integers. However, the Fraction class does not inherit from the integer type and does not have access to all of the methods and attributes of the integer type."
   ]
  }
 ],
 "metadata": {
  "kernelspec": {
   "display_name": "Python 3 (ipykernel)",
   "language": "python",
   "name": "python3"
  },
  "language_info": {
   "codemirror_mode": {
    "name": "ipython",
    "version": 3
   },
   "file_extension": ".py",
   "mimetype": "text/x-python",
   "name": "python",
   "nbconvert_exporter": "python",
   "pygments_lexer": "ipython3",
   "version": "3.10.7"
  }
 },
 "nbformat": 4,
 "nbformat_minor": 5
}
